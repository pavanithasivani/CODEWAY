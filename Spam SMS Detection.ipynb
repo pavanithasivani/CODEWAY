{
  "cells": [
    {
      "cell_type": "code",
      "execution_count": null,
      "metadata": {
        "colab": {
          "base_uri": "https://localhost:8080/"
        },
        "id": "fQvTjZAayBq0",
        "outputId": "da21567d-f82f-4036-f02b-459329b3a886"
      },
      "outputs": [],
      "source": [
        "import os\n",
        "import sys\n",
        "from tempfile import NamedTemporaryFile\n",
        "from urllib.request import urlopen\n",
        "from urllib.parse import unquote, urlparse\n",
        "from urllib.error import HTTPError\n",
        "from zipfile import ZipFile\n",
        "import tarfile\n",
        "import shutil\n",
        "\n",
        "CHUNK_SIZE = 40960\n",
        "DATA_SOURCE_MAPPING = 'sms-spam-collection-dataset:https%3A%2F%2Fstorage.googleapis.com%2Fkaggle-data-sets%2F483%2F982%2Fbundle%2Farchive.zip%3FX-Goog-Algorithm%3DGOOG4-RSA-SHA256%26X-Goog-Credential%3Dgcp-kaggle-com%2540kaggle-161607.iam.gserviceaccount.com%252F20240220%252Fauto%252Fstorage%252Fgoog4_request%26X-Goog-Date%3D20240220T135011Z%26X-Goog-Expires%3D259200%26X-Goog-SignedHeaders%3Dhost%26X-Goog-Signature%3D85645534b0a8643dffea314f2aa79e6cb3d2cc3dc381b97744f4c96446dfe014f72cf1481f67ea4bb83263a297673462b5897e5287d4318a352484b16bee779c5ddd9cc5f8ca164aff18c111593990f7b7c48e78f7e850938ffcbfd7570737bb924363cc9b4b2709a0f6e8460720adb59e59f391cdf9668895c1eb78ee21faeaff473f35a028da244a89560f49f0af41b4947764b4610253c439a715650761f9ee916bbc3df49f351c9b4e00f792431680bd5c1f5ce02ecfdd329c75bd083ba71bbeb7ffe5beff48098f799b0078015b900469b0c1f7fe1c7f72eab28fa61bf85d29c01dfd05179599742ca425dbd844734d3809a215ae5c82429c3905f415da'\n",
        "\n",
        "KAGGLE_INPUT_PATH='/kaggle/input'\n",
        "KAGGLE_WORKING_PATH='/kaggle/working'\n",
        "KAGGLE_SYMLINK='kaggle'\n",
        "\n",
        "!umount /kaggle/input/ 2> /dev/null\n",
        "shutil.rmtree('/kaggle/input', ignore_errors=True)\n",
        "os.makedirs(KAGGLE_INPUT_PATH, 0o777, exist_ok=True)\n",
        "os.makedirs(KAGGLE_WORKING_PATH, 0o777, exist_ok=True)\n",
        "\n",
        "try:\n",
        "  os.symlink(KAGGLE_INPUT_PATH, os.path.join(\"..\", 'input'), target_is_directory=True)\n",
        "except FileExistsError:\n",
        "  pass\n",
        "try:\n",
        "  os.symlink(KAGGLE_WORKING_PATH, os.path.join(\"..\", 'working'), target_is_directory=True)\n",
        "except FileExistsError:\n",
        "  pass\n",
        "\n",
        "for data_source_mapping in DATA_SOURCE_MAPPING.split(','):\n",
        "    directory, download_url_encoded = data_source_mapping.split(':')\n",
        "    download_url = unquote(download_url_encoded)\n",
        "    filename = urlparse(download_url).path\n",
        "    destination_path = os.path.join(KAGGLE_INPUT_PATH, directory)\n",
        "    try:\n",
        "        with urlopen(download_url) as fileres, NamedTemporaryFile() as tfile:\n",
        "            total_length = fileres.headers['content-length']\n",
        "            print(f'Downloading {directory}, {total_length} bytes compressed')\n",
        "            dl = 0\n",
        "            data = fileres.read(CHUNK_SIZE)\n",
        "            while len(data) > 0:\n",
        "                dl += len(data)\n",
        "                tfile.write(data)\n",
        "                done = int(50 * dl / int(total_length))\n",
        "                sys.stdout.write(f\"\\r[{'=' * done}{' ' * (50-done)}] {dl} bytes downloaded\")\n",
        "                sys.stdout.flush()\n",
        "                data = fileres.read(CHUNK_SIZE)\n",
        "            if filename.endswith('.zip'):\n",
        "              with ZipFile(tfile) as zfile:\n",
        "                zfile.extractall(destination_path)\n",
        "            else:\n",
        "              with tarfile.open(tfile.name) as tarfile:\n",
        "                tarfile.extractall(destination_path)\n",
        "            print(f'\\nDownloaded and uncompressed: {directory}')\n",
        "    except HTTPError as e:\n",
        "        print(f'Failed to load (likely expired) {download_url} to path {destination_path}')\n",
        "        continue\n",
        "    except OSError as e:\n",
        "        print(f'Failed to load {download_url} to path {destination_path}')\n",
        "        continue\n",
        "\n",
        "print('Data source import complete.')\n"
      ]
    },
    {
      "cell_type": "code",
      "execution_count": 17,
      "metadata": {
        "_cell_guid": "b1076dfc-b9ad-4769-8c92-a6c4dae69d19",
        "_uuid": "8f2839f25d086af736a60e9eeb907d3b93b6e0e5",
        "colab": {
          "base_uri": "https://localhost:8080/"
        },
        "execution": {
          "iopub.execute_input": "2024-01-06T02:15:02.138734Z",
          "iopub.status.busy": "2024-01-06T02:15:02.13831Z",
          "iopub.status.idle": "2024-01-06T02:15:02.624528Z",
          "shell.execute_reply": "2024-01-06T02:15:02.622799Z",
          "shell.execute_reply.started": "2024-01-06T02:15:02.138697Z"
        },
        "id": "pHg7fcv8yBq1",
        "outputId": "ee298cde-2526-46e5-b3de-79d9b34888c2",
        "trusted": true
      },
      "outputs": [],
      "source": [
        "\n",
        "\n",
        "import numpy as np \n",
        "import pandas as pd \n",
        "\n",
        "\n",
        "\n",
        "import os\n",
        "for dirname, _, filenames in os.walk('/kaggle/input'):\n",
        "    for filename in filenames:\n",
        "        print(os.path.join(dirname, filename))\n"
      ]
    },
    {
      "cell_type": "markdown",
      "metadata": {
        "id": "QVhm5OynyBq1"
      },
      "source": [
        "## We are import libraries from the Sci Kit Learn\n",
        "## Ploting Libraries"
      ]
    },
    {
      "cell_type": "code",
      "execution_count": null,
      "metadata": {
        "execution": {
          "iopub.execute_input": "2024-01-06T02:54:28.372002Z",
          "iopub.status.busy": "2024-01-06T02:54:28.371517Z",
          "iopub.status.idle": "2024-01-06T02:54:28.379309Z",
          "shell.execute_reply": "2024-01-06T02:54:28.377926Z",
          "shell.execute_reply.started": "2024-01-06T02:54:28.371967Z"
        },
        "id": "vNhDaj9eyBq3",
        "trusted": true
      },
      "outputs": [],
      "source": [
        "from sklearn.naive_bayes import MultinomialNB\n",
        "from sklearn.pipeline import Pipeline\n",
        "from sklearn.feature_extraction.text import TfidfVectorizer\n",
        "from sklearn.model_selection import train_test_split\n",
        "from sklearn.metrics import accuracy_score,confusion_matrix,precision_score,recall_score,f1_score\n",
        "import matplotlib.pyplot as plt\n",
        "import seaborn as sns"
      ]
    },
    {
      "cell_type": "markdown",
      "metadata": {
        "id": "yXj8HWX7yBq3"
      },
      "source": [
        "## We are ploting using seaborn"
      ]
    },
    {
      "cell_type": "code",
      "execution_count": 19,
      "metadata": {
        "execution": {
          "iopub.execute_input": "2024-01-06T02:43:27.249665Z",
          "iopub.status.busy": "2024-01-06T02:43:27.249207Z",
          "iopub.status.idle": "2024-01-06T02:43:27.256565Z",
          "shell.execute_reply": "2024-01-06T02:43:27.255253Z",
          "shell.execute_reply.started": "2024-01-06T02:43:27.249629Z"
        },
        "id": "GkrDyQ38yBq3",
        "trusted": true
      },
      "outputs": [],
      "source": [
        "def heat_map(cm):\n",
        "    sns.heatmap(cm,annot=True,fmt='d',cmap='Blues')\n",
        "    plt.title('Confusion Matrix')\n",
        "    plt.xlabel('Predicted Labels')\n",
        "    plt.ylabel('True Labels')\n",
        "    plt.show()"
      ]
    },
    {
      "cell_type": "markdown",
      "metadata": {
        "id": "qV2EpCuMyBq3"
      },
      "source": [
        "## Reading Data from csv file using pandas"
      ]
    },
    {
      "cell_type": "code",
      "execution_count": null,
      "metadata": {
        "execution": {
          "iopub.execute_input": "2024-01-06T02:58:59.626467Z",
          "iopub.status.busy": "2024-01-06T02:58:59.626035Z",
          "iopub.status.idle": "2024-01-06T02:58:59.65238Z",
          "shell.execute_reply": "2024-01-06T02:58:59.651198Z",
          "shell.execute_reply.started": "2024-01-06T02:58:59.626431Z"
        },
        "id": "jZVkoXOkyBq3",
        "trusted": true
      },
      "outputs": [],
      "source": [
        "data=pd.read_csv('/kaggle/input/sms-spam-collection-dataset/spam.csv',encoding='latin1')\n",
        "X=data['v2']\n",
        "Y=data.v1"
      ]
    },
    {
      "cell_type": "markdown",
      "metadata": {
        "id": "NDr6o-bDyBq4"
      },
      "source": [
        "## Split the data for Testing and Traing"
      ]
    },
    {
      "cell_type": "code",
      "execution_count": null,
      "metadata": {
        "execution": {
          "iopub.execute_input": "2024-01-06T03:01:03.342395Z",
          "iopub.status.busy": "2024-01-06T03:01:03.341393Z",
          "iopub.status.idle": "2024-01-06T03:01:03.351582Z",
          "shell.execute_reply": "2024-01-06T03:01:03.349616Z",
          "shell.execute_reply.started": "2024-01-06T03:01:03.342353Z"
        },
        "id": "RwDNHyMZyBq4",
        "trusted": true
      },
      "outputs": [],
      "source": [
        "x_tr,x_te,y_tr,y_te=train_test_split(X,Y,random_state=42,test_size=.2)"
      ]
    },
    {
      "cell_type": "markdown",
      "metadata": {
        "id": "1igQC8dKyBq4"
      },
      "source": [
        "## Creating a model using Naive Bayes and use Vectorizer to transform the data"
      ]
    },
    {
      "cell_type": "code",
      "execution_count": null,
      "metadata": {
        "execution": {
          "iopub.execute_input": "2024-01-06T03:01:15.169573Z",
          "iopub.status.busy": "2024-01-06T03:01:15.169124Z",
          "iopub.status.idle": "2024-01-06T03:01:15.177116Z",
          "shell.execute_reply": "2024-01-06T03:01:15.174307Z",
          "shell.execute_reply.started": "2024-01-06T03:01:15.169538Z"
        },
        "id": "vSk_QjBhyBq4",
        "trusted": true
      },
      "outputs": [],
      "source": [
        "model=Pipeline([('vectorizer',TfidfVectorizer()),('classifier',MultinomialNB())])"
      ]
    },
    {
      "cell_type": "markdown",
      "metadata": {
        "id": "3KhOvXdQyBq4"
      },
      "source": [
        "## Fit the model"
      ]
    },
    {
      "cell_type": "code",
      "execution_count": null,
      "metadata": {
        "colab": {
          "base_uri": "https://localhost:8080/",
          "height": 125
        },
        "execution": {
          "iopub.execute_input": "2024-01-06T03:01:35.388498Z",
          "iopub.status.busy": "2024-01-06T03:01:35.387812Z",
          "iopub.status.idle": "2024-01-06T03:01:35.57105Z",
          "shell.execute_reply": "2024-01-06T03:01:35.569459Z",
          "shell.execute_reply.started": "2024-01-06T03:01:35.388452Z"
        },
        "id": "H6MP2eWRyBq4",
        "outputId": "6f35bddd-8f1d-4857-e222-2b0cb142563f",
        "trusted": true
      },
      "outputs": [
        {
          "data": {
            "text/html": [
              "<style>#sk-container-id-1 {color: black;background-color: white;}#sk-container-id-1 pre{padding: 0;}#sk-container-id-1 div.sk-toggleable {background-color: white;}#sk-container-id-1 label.sk-toggleable__label {cursor: pointer;display: block;width: 100%;margin-bottom: 0;padding: 0.3em;box-sizing: border-box;text-align: center;}#sk-container-id-1 label.sk-toggleable__label-arrow:before {content: \"▸\";float: left;margin-right: 0.25em;color: #696969;}#sk-container-id-1 label.sk-toggleable__label-arrow:hover:before {color: black;}#sk-container-id-1 div.sk-estimator:hover label.sk-toggleable__label-arrow:before {color: black;}#sk-container-id-1 div.sk-toggleable__content {max-height: 0;max-width: 0;overflow: hidden;text-align: left;background-color: #f0f8ff;}#sk-container-id-1 div.sk-toggleable__content pre {margin: 0.2em;color: black;border-radius: 0.25em;background-color: #f0f8ff;}#sk-container-id-1 input.sk-toggleable__control:checked~div.sk-toggleable__content {max-height: 200px;max-width: 100%;overflow: auto;}#sk-container-id-1 input.sk-toggleable__control:checked~label.sk-toggleable__label-arrow:before {content: \"▾\";}#sk-container-id-1 div.sk-estimator input.sk-toggleable__control:checked~label.sk-toggleable__label {background-color: #d4ebff;}#sk-container-id-1 div.sk-label input.sk-toggleable__control:checked~label.sk-toggleable__label {background-color: #d4ebff;}#sk-container-id-1 input.sk-hidden--visually {border: 0;clip: rect(1px 1px 1px 1px);clip: rect(1px, 1px, 1px, 1px);height: 1px;margin: -1px;overflow: hidden;padding: 0;position: absolute;width: 1px;}#sk-container-id-1 div.sk-estimator {font-family: monospace;background-color: #f0f8ff;border: 1px dotted black;border-radius: 0.25em;box-sizing: border-box;margin-bottom: 0.5em;}#sk-container-id-1 div.sk-estimator:hover {background-color: #d4ebff;}#sk-container-id-1 div.sk-parallel-item::after {content: \"\";width: 100%;border-bottom: 1px solid gray;flex-grow: 1;}#sk-container-id-1 div.sk-label:hover label.sk-toggleable__label {background-color: #d4ebff;}#sk-container-id-1 div.sk-serial::before {content: \"\";position: absolute;border-left: 1px solid gray;box-sizing: border-box;top: 0;bottom: 0;left: 50%;z-index: 0;}#sk-container-id-1 div.sk-serial {display: flex;flex-direction: column;align-items: center;background-color: white;padding-right: 0.2em;padding-left: 0.2em;position: relative;}#sk-container-id-1 div.sk-item {position: relative;z-index: 1;}#sk-container-id-1 div.sk-parallel {display: flex;align-items: stretch;justify-content: center;background-color: white;position: relative;}#sk-container-id-1 div.sk-item::before, #sk-container-id-1 div.sk-parallel-item::before {content: \"\";position: absolute;border-left: 1px solid gray;box-sizing: border-box;top: 0;bottom: 0;left: 50%;z-index: -1;}#sk-container-id-1 div.sk-parallel-item {display: flex;flex-direction: column;z-index: 1;position: relative;background-color: white;}#sk-container-id-1 div.sk-parallel-item:first-child::after {align-self: flex-end;width: 50%;}#sk-container-id-1 div.sk-parallel-item:last-child::after {align-self: flex-start;width: 50%;}#sk-container-id-1 div.sk-parallel-item:only-child::after {width: 0;}#sk-container-id-1 div.sk-dashed-wrapped {border: 1px dashed gray;margin: 0 0.4em 0.5em 0.4em;box-sizing: border-box;padding-bottom: 0.4em;background-color: white;}#sk-container-id-1 div.sk-label label {font-family: monospace;font-weight: bold;display: inline-block;line-height: 1.2em;}#sk-container-id-1 div.sk-label-container {text-align: center;}#sk-container-id-1 div.sk-container {/* jupyter's `normalize.less` sets `[hidden] { display: none; }` but bootstrap.min.css set `[hidden] { display: none !important; }` so we also need the `!important` here to be able to override the default hidden behavior on the sphinx rendered scikit-learn.org. See: https://github.com/scikit-learn/scikit-learn/issues/21755 */display: inline-block !important;position: relative;}#sk-container-id-1 div.sk-text-repr-fallback {display: none;}</style><div id=\"sk-container-id-1\" class=\"sk-top-container\"><div class=\"sk-text-repr-fallback\"><pre>Pipeline(steps=[(&#x27;vectorizer&#x27;, TfidfVectorizer()),\n",
              "                (&#x27;classifier&#x27;, MultinomialNB())])</pre><b>In a Jupyter environment, please rerun this cell to show the HTML representation or trust the notebook. <br />On GitHub, the HTML representation is unable to render, please try loading this page with nbviewer.org.</b></div><div class=\"sk-container\" hidden><div class=\"sk-item sk-dashed-wrapped\"><div class=\"sk-label-container\"><div class=\"sk-label sk-toggleable\"><input class=\"sk-toggleable__control sk-hidden--visually\" id=\"sk-estimator-id-1\" type=\"checkbox\" ><label for=\"sk-estimator-id-1\" class=\"sk-toggleable__label sk-toggleable__label-arrow\">Pipeline</label><div class=\"sk-toggleable__content\"><pre>Pipeline(steps=[(&#x27;vectorizer&#x27;, TfidfVectorizer()),\n",
              "                (&#x27;classifier&#x27;, MultinomialNB())])</pre></div></div></div><div class=\"sk-serial\"><div class=\"sk-item\"><div class=\"sk-estimator sk-toggleable\"><input class=\"sk-toggleable__control sk-hidden--visually\" id=\"sk-estimator-id-2\" type=\"checkbox\" ><label for=\"sk-estimator-id-2\" class=\"sk-toggleable__label sk-toggleable__label-arrow\">TfidfVectorizer</label><div class=\"sk-toggleable__content\"><pre>TfidfVectorizer()</pre></div></div></div><div class=\"sk-item\"><div class=\"sk-estimator sk-toggleable\"><input class=\"sk-toggleable__control sk-hidden--visually\" id=\"sk-estimator-id-3\" type=\"checkbox\" ><label for=\"sk-estimator-id-3\" class=\"sk-toggleable__label sk-toggleable__label-arrow\">MultinomialNB</label><div class=\"sk-toggleable__content\"><pre>MultinomialNB()</pre></div></div></div></div></div></div></div>"
            ],
            "text/plain": [
              "Pipeline(steps=[('vectorizer', TfidfVectorizer()),\n",
              "                ('classifier', MultinomialNB())])"
            ]
          },
          "execution_count": 8,
          "metadata": {},
          "output_type": "execute_result"
        }
      ],
      "source": [
        "model.fit(x_tr,y_tr)"
      ]
    },
    {
      "cell_type": "markdown",
      "metadata": {
        "id": "cQ-25nG6yBq5"
      },
      "source": [
        "## Find the predicted labels and find accuracy and confusion matrix"
      ]
    },
    {
      "cell_type": "code",
      "execution_count": null,
      "metadata": {
        "colab": {
          "base_uri": "https://localhost:8080/"
        },
        "execution": {
          "iopub.execute_input": "2024-01-06T02:56:36.900003Z",
          "iopub.status.busy": "2024-01-06T02:56:36.899559Z",
          "iopub.status.idle": "2024-01-06T02:56:36.951025Z",
          "shell.execute_reply": "2024-01-06T02:56:36.949805Z",
          "shell.execute_reply.started": "2024-01-06T02:56:36.899955Z"
        },
        "id": "ZNvvHQVjyBq5",
        "outputId": "e93a0804-b99c-47c2-a629-a043967edecb",
        "trusted": true
      },
      "outputs": [
        {
          "name": "stdout",
          "output_type": "stream",
          "text": [
            "Accuracy_Score 0.9623318385650225\n",
            "Confusion_Matrix [[965   0]\n",
            " [ 42 108]]\n"
          ]
        }
      ],
      "source": [
        "y_pr=model.predict(x_te)\n",
        "print('Accuracy_Score',accuracy_score(y_te,y_pr))\n",
        "print('Confusion_Matrix',confusion_matrix(y_te,y_pr))"
      ]
    },
    {
      "cell_type": "markdown",
      "metadata": {
        "id": "PwrkNS-_yBq5"
      },
      "source": [
        "## Ploting"
      ]
    },
    {
      "cell_type": "code",
      "execution_count": null,
      "metadata": {
        "colab": {
          "base_uri": "https://localhost:8080/",
          "height": 472
        },
        "execution": {
          "iopub.execute_input": "2024-01-06T02:53:27.656691Z",
          "iopub.status.busy": "2024-01-06T02:53:27.656288Z",
          "iopub.status.idle": "2024-01-06T02:53:27.911602Z",
          "shell.execute_reply": "2024-01-06T02:53:27.910428Z",
          "shell.execute_reply.started": "2024-01-06T02:53:27.656658Z"
        },
        "id": "i4L0YdnxyBq5",
        "outputId": "76fccbf1-5a16-4e63-91ae-811cac87826f",
        "trusted": true
      },
      "outputs": [
        {
          "data": {
            "image/png": "[encoded data removed]",
            "text/plain": [
              "<Figure size 640x480 with 2 Axes>"
            ]
          },
          "metadata": {},
          "output_type": "display_data"
        }
      ],
      "source": [
        "heat_map(confusion_matrix(y_te,y_pr))"
      ]
    }
  ],
  "metadata": {
    "colab": {
      "provenance": []
    },
    "kaggle": {
      "accelerator": "none",
      "dataSources": [
        {
          "datasetId": 483,
          "sourceId": 982,
          "sourceType": "datasetVersion"
        }
      ],
      "dockerImageVersionId": 30626,
      "isGpuEnabled": false,
      "isInternetEnabled": true,
      "language": "python",
      "sourceType": "notebook"
    },
    "kernelspec": {
      "display_name": "Python 3",
      "language": "python",
      "name": "python3"
    },
    "language_info": {
      "codemirror_mode": {
        "name": "ipython",
        "version": 3
      },
      "file_extension": ".py",
      "mimetype": "text/x-python",
      "name": "python",
      "nbconvert_exporter": "python",
      "pygments_lexer": "ipython3",
      "version": "3.12.1"
    }
  },
  "nbformat": 4,
  "nbformat_minor": 0
}
